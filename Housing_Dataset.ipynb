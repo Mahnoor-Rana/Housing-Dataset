{
 "cells": [
  {
   "cell_type": "code",
   "execution_count": 1,
   "id": "2d56782e",
   "metadata": {},
   "outputs": [],
   "source": [
    "import pandas as pd\n",
    "import numpy as  np\n",
    "from  sklearn.model_selection import train_test_split\n",
    "import matplotlib.pyplot as plt\n",
    "from sklearn import model_selection \n",
    "from sklearn.model_selection import StratifiedShuffleSplit\n",
    "from pandas.plotting import scatter_matrix\n",
    "from sklearn.impute import SimpleImputer\n",
    "from sklearn.pipeline import Pipeline\n",
    "from sklearn.preprocessing import StandardScaler\n",
    "from sklearn.linear_model import LinearRegression\n",
    "from sklearn.tree import DecisionTreeRegressor\n",
    "from sklearn.model_selection import GridSearchCV\n",
    "from sklearn.model_selection import ShuffleSplit"
   ]
  },
  {
   "cell_type": "markdown",
   "id": "4257b074",
   "metadata": {},
   "source": [
    "## load the data "
   ]
  },
  {
   "cell_type": "code",
   "execution_count": 3,
   "id": "5f2db47a",
   "metadata": {},
   "outputs": [
    {
     "data": {
      "text/html": [
       "<div>\n",
       "<style scoped>\n",
       "    .dataframe tbody tr th:only-of-type {\n",
       "        vertical-align: middle;\n",
       "    }\n",
       "\n",
       "    .dataframe tbody tr th {\n",
       "        vertical-align: top;\n",
       "    }\n",
       "\n",
       "    .dataframe thead th {\n",
       "        text-align: right;\n",
       "    }\n",
       "</style>\n",
       "<table border=\"1\" class=\"dataframe\">\n",
       "  <thead>\n",
       "    <tr style=\"text-align: right;\">\n",
       "      <th></th>\n",
       "      <th>CRIM</th>\n",
       "      <th>ZN</th>\n",
       "      <th>INDUS</th>\n",
       "      <th>CHAS</th>\n",
       "      <th>NOX</th>\n",
       "      <th>RM</th>\n",
       "      <th>AGE</th>\n",
       "      <th>DIS</th>\n",
       "      <th>RAD</th>\n",
       "      <th>TAX</th>\n",
       "      <th>PTRATIO</th>\n",
       "      <th>B</th>\n",
       "      <th>LSTAT</th>\n",
       "      <th>MEDV</th>\n",
       "    </tr>\n",
       "  </thead>\n",
       "  <tbody>\n",
       "    <tr>\n",
       "      <th>0</th>\n",
       "      <td>0.00632</td>\n",
       "      <td>18.0</td>\n",
       "      <td>2.31</td>\n",
       "      <td>0.0</td>\n",
       "      <td>0.538</td>\n",
       "      <td>6.575</td>\n",
       "      <td>65.2</td>\n",
       "      <td>4.0900</td>\n",
       "      <td>1</td>\n",
       "      <td>296</td>\n",
       "      <td>15.3</td>\n",
       "      <td>396.90</td>\n",
       "      <td>4.98</td>\n",
       "      <td>24.0</td>\n",
       "    </tr>\n",
       "    <tr>\n",
       "      <th>1</th>\n",
       "      <td>0.02731</td>\n",
       "      <td>0.0</td>\n",
       "      <td>7.07</td>\n",
       "      <td>0.0</td>\n",
       "      <td>0.469</td>\n",
       "      <td>6.421</td>\n",
       "      <td>78.9</td>\n",
       "      <td>4.9671</td>\n",
       "      <td>2</td>\n",
       "      <td>242</td>\n",
       "      <td>17.8</td>\n",
       "      <td>396.90</td>\n",
       "      <td>9.14</td>\n",
       "      <td>21.6</td>\n",
       "    </tr>\n",
       "    <tr>\n",
       "      <th>2</th>\n",
       "      <td>0.02729</td>\n",
       "      <td>0.0</td>\n",
       "      <td>7.07</td>\n",
       "      <td>0.0</td>\n",
       "      <td>0.469</td>\n",
       "      <td>7.185</td>\n",
       "      <td>61.1</td>\n",
       "      <td>4.9671</td>\n",
       "      <td>2</td>\n",
       "      <td>242</td>\n",
       "      <td>17.8</td>\n",
       "      <td>392.83</td>\n",
       "      <td>4.03</td>\n",
       "      <td>34.7</td>\n",
       "    </tr>\n",
       "    <tr>\n",
       "      <th>3</th>\n",
       "      <td>0.03237</td>\n",
       "      <td>0.0</td>\n",
       "      <td>2.18</td>\n",
       "      <td>0.0</td>\n",
       "      <td>0.458</td>\n",
       "      <td>6.998</td>\n",
       "      <td>45.8</td>\n",
       "      <td>6.0622</td>\n",
       "      <td>3</td>\n",
       "      <td>222</td>\n",
       "      <td>18.7</td>\n",
       "      <td>394.63</td>\n",
       "      <td>2.94</td>\n",
       "      <td>33.4</td>\n",
       "    </tr>\n",
       "    <tr>\n",
       "      <th>4</th>\n",
       "      <td>0.06905</td>\n",
       "      <td>0.0</td>\n",
       "      <td>2.18</td>\n",
       "      <td>0.0</td>\n",
       "      <td>0.458</td>\n",
       "      <td>7.147</td>\n",
       "      <td>54.2</td>\n",
       "      <td>6.0622</td>\n",
       "      <td>3</td>\n",
       "      <td>222</td>\n",
       "      <td>18.7</td>\n",
       "      <td>396.90</td>\n",
       "      <td>NaN</td>\n",
       "      <td>36.2</td>\n",
       "    </tr>\n",
       "  </tbody>\n",
       "</table>\n",
       "</div>"
      ],
      "text/plain": [
       "      CRIM    ZN  INDUS  CHAS    NOX     RM   AGE     DIS  RAD  TAX  PTRATIO  \\\n",
       "0  0.00632  18.0   2.31   0.0  0.538  6.575  65.2  4.0900    1  296     15.3   \n",
       "1  0.02731   0.0   7.07   0.0  0.469  6.421  78.9  4.9671    2  242     17.8   \n",
       "2  0.02729   0.0   7.07   0.0  0.469  7.185  61.1  4.9671    2  242     17.8   \n",
       "3  0.03237   0.0   2.18   0.0  0.458  6.998  45.8  6.0622    3  222     18.7   \n",
       "4  0.06905   0.0   2.18   0.0  0.458  7.147  54.2  6.0622    3  222     18.7   \n",
       "\n",
       "        B  LSTAT  MEDV  \n",
       "0  396.90   4.98  24.0  \n",
       "1  396.90   9.14  21.6  \n",
       "2  392.83   4.03  34.7  \n",
       "3  394.63   2.94  33.4  \n",
       "4  396.90    NaN  36.2  "
      ]
     },
     "execution_count": 3,
     "metadata": {},
     "output_type": "execute_result"
    }
   ],
   "source": [
    "data=pd.read_csv(\"HousingData.csv\")\n",
    "\n",
    "data.head()"
   ]
  },
  {
   "cell_type": "markdown",
   "id": "ee62a9d5",
   "metadata": {},
   "source": [
    "### Describe each district of category"
   ]
  },
  {
   "cell_type": "code",
   "execution_count": 6,
   "id": "52c0a857",
   "metadata": {},
   "outputs": [
    {
     "data": {
      "text/plain": [
       "<bound method IndexOpsMixin.value_counts of 0      0.00632\n",
       "1      0.02731\n",
       "2      0.02729\n",
       "3      0.03237\n",
       "4      0.06905\n",
       "        ...   \n",
       "501    0.06263\n",
       "502    0.04527\n",
       "503    0.06076\n",
       "504    0.10959\n",
       "505    0.04741\n",
       "Name: CRIM, Length: 506, dtype: float64>"
      ]
     },
     "execution_count": 6,
     "metadata": {},
     "output_type": "execute_result"
    }
   ],
   "source": [
    "data[\"CRIM\"].value_counts\n"
   ]
  },
  {
   "cell_type": "code",
   "execution_count": 7,
   "id": "a8d185eb",
   "metadata": {},
   "outputs": [],
   "source": [
    "#info()used to get quick informatioon of data"
   ]
  },
  {
   "cell_type": "code",
   "execution_count": 8,
   "id": "c7d6d28e",
   "metadata": {},
   "outputs": [
    {
     "name": "stdout",
     "output_type": "stream",
     "text": [
      "<class 'pandas.core.frame.DataFrame'>\n",
      "RangeIndex: 506 entries, 0 to 505\n",
      "Data columns (total 14 columns):\n",
      " #   Column   Non-Null Count  Dtype  \n",
      "---  ------   --------------  -----  \n",
      " 0   CRIM     486 non-null    float64\n",
      " 1   ZN       486 non-null    float64\n",
      " 2   INDUS    486 non-null    float64\n",
      " 3   CHAS     486 non-null    float64\n",
      " 4   NOX      506 non-null    float64\n",
      " 5   RM       506 non-null    float64\n",
      " 6   AGE      486 non-null    float64\n",
      " 7   DIS      506 non-null    float64\n",
      " 8   RAD      506 non-null    int64  \n",
      " 9   TAX      506 non-null    int64  \n",
      " 10  PTRATIO  506 non-null    float64\n",
      " 11  B        506 non-null    float64\n",
      " 12  LSTAT    486 non-null    float64\n",
      " 13  MEDV     506 non-null    float64\n",
      "dtypes: float64(12), int64(2)\n",
      "memory usage: 55.5 KB\n"
     ]
    }
   ],
   "source": [
    "data.info()"
   ]
  },
  {
   "cell_type": "markdown",
   "id": "8d56f8cc",
   "metadata": {},
   "source": [
    "### Show summary of attribute\n"
   ]
  },
  {
   "cell_type": "code",
   "execution_count": 9,
   "id": "8cc1f751",
   "metadata": {},
   "outputs": [
    {
     "data": {
      "text/html": [
       "<div>\n",
       "<style scoped>\n",
       "    .dataframe tbody tr th:only-of-type {\n",
       "        vertical-align: middle;\n",
       "    }\n",
       "\n",
       "    .dataframe tbody tr th {\n",
       "        vertical-align: top;\n",
       "    }\n",
       "\n",
       "    .dataframe thead th {\n",
       "        text-align: right;\n",
       "    }\n",
       "</style>\n",
       "<table border=\"1\" class=\"dataframe\">\n",
       "  <thead>\n",
       "    <tr style=\"text-align: right;\">\n",
       "      <th></th>\n",
       "      <th>CRIM</th>\n",
       "      <th>ZN</th>\n",
       "      <th>INDUS</th>\n",
       "      <th>CHAS</th>\n",
       "      <th>NOX</th>\n",
       "      <th>RM</th>\n",
       "      <th>AGE</th>\n",
       "      <th>DIS</th>\n",
       "      <th>RAD</th>\n",
       "      <th>TAX</th>\n",
       "      <th>PTRATIO</th>\n",
       "      <th>B</th>\n",
       "      <th>LSTAT</th>\n",
       "      <th>MEDV</th>\n",
       "    </tr>\n",
       "  </thead>\n",
       "  <tbody>\n",
       "    <tr>\n",
       "      <th>count</th>\n",
       "      <td>486.000000</td>\n",
       "      <td>486.000000</td>\n",
       "      <td>486.000000</td>\n",
       "      <td>486.000000</td>\n",
       "      <td>506.000000</td>\n",
       "      <td>506.000000</td>\n",
       "      <td>486.000000</td>\n",
       "      <td>506.000000</td>\n",
       "      <td>506.000000</td>\n",
       "      <td>506.000000</td>\n",
       "      <td>506.000000</td>\n",
       "      <td>506.000000</td>\n",
       "      <td>486.000000</td>\n",
       "      <td>506.000000</td>\n",
       "    </tr>\n",
       "    <tr>\n",
       "      <th>mean</th>\n",
       "      <td>3.611874</td>\n",
       "      <td>11.211934</td>\n",
       "      <td>11.083992</td>\n",
       "      <td>0.069959</td>\n",
       "      <td>0.554695</td>\n",
       "      <td>6.284634</td>\n",
       "      <td>68.518519</td>\n",
       "      <td>3.795043</td>\n",
       "      <td>9.549407</td>\n",
       "      <td>408.237154</td>\n",
       "      <td>18.455534</td>\n",
       "      <td>356.674032</td>\n",
       "      <td>12.715432</td>\n",
       "      <td>22.532806</td>\n",
       "    </tr>\n",
       "    <tr>\n",
       "      <th>std</th>\n",
       "      <td>8.720192</td>\n",
       "      <td>23.388876</td>\n",
       "      <td>6.835896</td>\n",
       "      <td>0.255340</td>\n",
       "      <td>0.115878</td>\n",
       "      <td>0.702617</td>\n",
       "      <td>27.999513</td>\n",
       "      <td>2.105710</td>\n",
       "      <td>8.707259</td>\n",
       "      <td>168.537116</td>\n",
       "      <td>2.164946</td>\n",
       "      <td>91.294864</td>\n",
       "      <td>7.155871</td>\n",
       "      <td>9.197104</td>\n",
       "    </tr>\n",
       "    <tr>\n",
       "      <th>min</th>\n",
       "      <td>0.006320</td>\n",
       "      <td>0.000000</td>\n",
       "      <td>0.460000</td>\n",
       "      <td>0.000000</td>\n",
       "      <td>0.385000</td>\n",
       "      <td>3.561000</td>\n",
       "      <td>2.900000</td>\n",
       "      <td>1.129600</td>\n",
       "      <td>1.000000</td>\n",
       "      <td>187.000000</td>\n",
       "      <td>12.600000</td>\n",
       "      <td>0.320000</td>\n",
       "      <td>1.730000</td>\n",
       "      <td>5.000000</td>\n",
       "    </tr>\n",
       "    <tr>\n",
       "      <th>25%</th>\n",
       "      <td>0.081900</td>\n",
       "      <td>0.000000</td>\n",
       "      <td>5.190000</td>\n",
       "      <td>0.000000</td>\n",
       "      <td>0.449000</td>\n",
       "      <td>5.885500</td>\n",
       "      <td>45.175000</td>\n",
       "      <td>2.100175</td>\n",
       "      <td>4.000000</td>\n",
       "      <td>279.000000</td>\n",
       "      <td>17.400000</td>\n",
       "      <td>375.377500</td>\n",
       "      <td>7.125000</td>\n",
       "      <td>17.025000</td>\n",
       "    </tr>\n",
       "    <tr>\n",
       "      <th>50%</th>\n",
       "      <td>0.253715</td>\n",
       "      <td>0.000000</td>\n",
       "      <td>9.690000</td>\n",
       "      <td>0.000000</td>\n",
       "      <td>0.538000</td>\n",
       "      <td>6.208500</td>\n",
       "      <td>76.800000</td>\n",
       "      <td>3.207450</td>\n",
       "      <td>5.000000</td>\n",
       "      <td>330.000000</td>\n",
       "      <td>19.050000</td>\n",
       "      <td>391.440000</td>\n",
       "      <td>11.430000</td>\n",
       "      <td>21.200000</td>\n",
       "    </tr>\n",
       "    <tr>\n",
       "      <th>75%</th>\n",
       "      <td>3.560263</td>\n",
       "      <td>12.500000</td>\n",
       "      <td>18.100000</td>\n",
       "      <td>0.000000</td>\n",
       "      <td>0.624000</td>\n",
       "      <td>6.623500</td>\n",
       "      <td>93.975000</td>\n",
       "      <td>5.188425</td>\n",
       "      <td>24.000000</td>\n",
       "      <td>666.000000</td>\n",
       "      <td>20.200000</td>\n",
       "      <td>396.225000</td>\n",
       "      <td>16.955000</td>\n",
       "      <td>25.000000</td>\n",
       "    </tr>\n",
       "    <tr>\n",
       "      <th>max</th>\n",
       "      <td>88.976200</td>\n",
       "      <td>100.000000</td>\n",
       "      <td>27.740000</td>\n",
       "      <td>1.000000</td>\n",
       "      <td>0.871000</td>\n",
       "      <td>8.780000</td>\n",
       "      <td>100.000000</td>\n",
       "      <td>12.126500</td>\n",
       "      <td>24.000000</td>\n",
       "      <td>711.000000</td>\n",
       "      <td>22.000000</td>\n",
       "      <td>396.900000</td>\n",
       "      <td>37.970000</td>\n",
       "      <td>50.000000</td>\n",
       "    </tr>\n",
       "  </tbody>\n",
       "</table>\n",
       "</div>"
      ],
      "text/plain": [
       "             CRIM          ZN       INDUS        CHAS         NOX          RM  \\\n",
       "count  486.000000  486.000000  486.000000  486.000000  506.000000  506.000000   \n",
       "mean     3.611874   11.211934   11.083992    0.069959    0.554695    6.284634   \n",
       "std      8.720192   23.388876    6.835896    0.255340    0.115878    0.702617   \n",
       "min      0.006320    0.000000    0.460000    0.000000    0.385000    3.561000   \n",
       "25%      0.081900    0.000000    5.190000    0.000000    0.449000    5.885500   \n",
       "50%      0.253715    0.000000    9.690000    0.000000    0.538000    6.208500   \n",
       "75%      3.560263   12.500000   18.100000    0.000000    0.624000    6.623500   \n",
       "max     88.976200  100.000000   27.740000    1.000000    0.871000    8.780000   \n",
       "\n",
       "              AGE         DIS         RAD         TAX     PTRATIO           B  \\\n",
       "count  486.000000  506.000000  506.000000  506.000000  506.000000  506.000000   \n",
       "mean    68.518519    3.795043    9.549407  408.237154   18.455534  356.674032   \n",
       "std     27.999513    2.105710    8.707259  168.537116    2.164946   91.294864   \n",
       "min      2.900000    1.129600    1.000000  187.000000   12.600000    0.320000   \n",
       "25%     45.175000    2.100175    4.000000  279.000000   17.400000  375.377500   \n",
       "50%     76.800000    3.207450    5.000000  330.000000   19.050000  391.440000   \n",
       "75%     93.975000    5.188425   24.000000  666.000000   20.200000  396.225000   \n",
       "max    100.000000   12.126500   24.000000  711.000000   22.000000  396.900000   \n",
       "\n",
       "            LSTAT        MEDV  \n",
       "count  486.000000  506.000000  \n",
       "mean    12.715432   22.532806  \n",
       "std      7.155871    9.197104  \n",
       "min      1.730000    5.000000  \n",
       "25%      7.125000   17.025000  \n",
       "50%     11.430000   21.200000  \n",
       "75%     16.955000   25.000000  \n",
       "max     37.970000   50.000000  "
      ]
     },
     "execution_count": 9,
     "metadata": {},
     "output_type": "execute_result"
    }
   ],
   "source": [
    "data.describe()\n"
   ]
  },
  {
   "cell_type": "markdown",
   "id": "ef30b41e",
   "metadata": {},
   "source": [
    "### VISULAIZATION"
   ]
  },
  {
   "cell_type": "code",
   "execution_count": 12,
   "id": "5f03da19",
   "metadata": {},
   "outputs": [
    {
     "data": {
      "image/png": "[encoded data removed]",
      "text/plain": [
       "<Figure size 1440x1080 with 16 Axes>"
      ]
     },
     "metadata": {
      "needs_background": "light"
     },
     "output_type": "display_data"
    }
   ],
   "source": [
    "#plot graphs\n",
    "data.hist(bins=20,figsize=(20,15))\n",
    "plt.show()"
   ]
  },
  {
   "cell_type": "markdown",
   "id": "303faf45",
   "metadata": {},
   "source": [
    "### Splitting into training and testing"
   ]
  },
  {
   "cell_type": "code",
   "execution_count": 14,
   "id": "9ff94ad2",
   "metadata": {},
   "outputs": [],
   "source": [
    "#create test dataset\n",
    "train_set,test_set = model_selection.train_test_split(data,test_size=0.2 ,random_state=42)\n"
   ]
  },
  {
   "cell_type": "markdown",
   "id": "1f23f7fc",
   "metadata": {},
   "source": [
    "### pd.cut() this function is used to create an income category attribute with 5 categories\n"
   ]
  },
  {
   "cell_type": "code",
   "execution_count": 15,
   "id": "e59ba3e5",
   "metadata": {},
   "outputs": [
    {
     "data": {
      "text/plain": [
       "<AxesSubplot:>"
      ]
     },
     "execution_count": 15,
     "metadata": {},
     "output_type": "execute_result"
    },
    {
     "data": {
      "image/png": "[encoded data removed]",
      "text/plain": [
       "<Figure size 432x288 with 1 Axes>"
      ]
     },
     "metadata": {
      "needs_background": "light"
     },
     "output_type": "display_data"
    }
   ],
   "source": [
    "data['tax_data']=pd.cut(data['TAX'],bins=[0,1.5,3.,4., np.inf],labels=[1,2,3,4])\n",
    "\n",
    "data['tax_data'].hist()"
   ]
  },
  {
   "cell_type": "code",
   "execution_count": 16,
   "id": "8d7e033f",
   "metadata": {},
   "outputs": [
    {
     "data": {
      "text/plain": [
       "4    1.0\n",
       "1    0.0\n",
       "2    0.0\n",
       "3    0.0\n",
       "Name: tax_data, dtype: float64"
      ]
     },
     "execution_count": 16,
     "metadata": {},
     "output_type": "execute_result"
    }
   ],
   "source": [
    "split= StratifiedShuffleSplit(n_splits=1,test_size=0.2 ,random_state=42)\n",
    "for train_index,test_index in split.split(data,data['tax_data']):\n",
    "    strat_train_set=data.iloc[train_index]\n",
    "    strat_test_set=data.iloc[test_index]\n",
    "\n",
    "strat_test_set[\"tax_data\"].value_counts() / len(strat_test_set)"
   ]
  },
  {
   "cell_type": "markdown",
   "id": "037a2dd7",
   "metadata": {},
   "source": [
    "### Now we should remove the data back into its original position"
   ]
  },
  {
   "cell_type": "code",
   "execution_count": 17,
   "id": "0ac4e189",
   "metadata": {},
   "outputs": [
    {
     "name": "stderr",
     "output_type": "stream",
     "text": [
      "D:\\anaconda\\lib\\site-packages\\pandas\\core\\frame.py:4308: SettingWithCopyWarning: \n",
      "A value is trying to be set on a copy of a slice from a DataFrame\n",
      "\n",
      "See the caveats in the documentation: https://pandas.pydata.org/pandas-docs/stable/user_guide/indexing.html#returning-a-view-versus-a-copy\n",
      "  return super().drop(\n"
     ]
    }
   ],
   "source": [
    "for set_ in (strat_train_set,strat_test_set):\n",
    "    set_.drop(\"tax_data\",axis =1,inplace =True)\n"
   ]
  },
  {
   "cell_type": "code",
   "execution_count": 18,
   "id": "df01384a",
   "metadata": {},
   "outputs": [
    {
     "data": {
      "text/plain": [
       "AGE        1.000000\n",
       "NOX        0.731647\n",
       "INDUS      0.653892\n",
       "LSTAT      0.637342\n",
       "TAX        0.523373\n",
       "RAD        0.466692\n",
       "CRIM       0.356253\n",
       "PTRATIO    0.276951\n",
       "CHAS       0.091839\n",
       "RM        -0.277462\n",
       "B         -0.277535\n",
       "MEDV      -0.427573\n",
       "ZN        -0.581057\n",
       "DIS       -0.734195\n",
       "Name: AGE, dtype: float64"
      ]
     },
     "execution_count": 18,
     "metadata": {},
     "output_type": "execute_result"
    }
   ],
   "source": [
    "#create a copy\n",
    "data=strat_train_set.copy()\n",
    "\n",
    "#correlations\n",
    "corr_matrix=data.corr()\n",
    "\n",
    "corr_matrix['AGE'].sort_values(ascending=False)\n",
    "\n"
   ]
  },
  {
   "cell_type": "code",
   "execution_count": 20,
   "id": "c5c3d0fc",
   "metadata": {},
   "outputs": [
    {
     "data": {
      "image/png": "[encoded data removed]",
      "text/plain": [
       "<Figure size 864x576 with 16 Axes>"
      ]
     },
     "metadata": {
      "needs_background": "light"
     },
     "output_type": "display_data"
    }
   ],
   "source": [
    "attributes = [\"CRIM\", \"ZN\", \"INDUS\",\n",
    " \"CHAS\"]\n",
    "scatter_matrix(data[attributes], figsize=(12, 8))\n",
    "plt.show()"
   ]
  },
  {
   "cell_type": "code",
   "execution_count": 21,
   "id": "b358df8d",
   "metadata": {},
   "outputs": [
    {
     "data": {
      "text/plain": [
       "SimpleImputer(strategy='median')"
      ]
     },
     "execution_count": 21,
     "metadata": {},
     "output_type": "execute_result"
    }
   ],
   "source": [
    "# Get rid of missing values\n",
    "imputer = SimpleImputer(strategy=\"median\")\n",
    "data_num=data.drop('CHAS',axis=1)\n",
    "imputer.fit(data_num)"
   ]
  },
  {
   "cell_type": "code",
   "execution_count": 22,
   "id": "4d6f64df",
   "metadata": {},
   "outputs": [
    {
     "data": {
      "text/plain": [
       "array([2.55570e-01, 0.00000e+00, 9.69000e+00, 5.38000e-01, 6.21000e+00,\n",
       "       7.69000e+01, 3.16750e+00, 5.00000e+00, 3.30000e+02, 1.91000e+01,\n",
       "       3.91305e+02, 1.16450e+01, 2.11500e+01])"
      ]
     },
     "execution_count": 22,
     "metadata": {},
     "output_type": "execute_result"
    }
   ],
   "source": [
    "imputer.statistics_"
   ]
  },
  {
   "cell_type": "code",
   "execution_count": 23,
   "id": "7a1da1fb",
   "metadata": {},
   "outputs": [
    {
     "data": {
      "text/plain": [
       "array([2.55570e-01, 0.00000e+00, 9.69000e+00, 5.38000e-01, 6.21000e+00,\n",
       "       7.69000e+01, 3.16750e+00, 5.00000e+00, 3.30000e+02, 1.91000e+01,\n",
       "       3.91305e+02, 1.16450e+01, 2.11500e+01])"
      ]
     },
     "execution_count": 23,
     "metadata": {},
     "output_type": "execute_result"
    }
   ],
   "source": [
    "data_num.median().values"
   ]
  },
  {
   "cell_type": "code",
   "execution_count": 26,
   "id": "74368feb",
   "metadata": {},
   "outputs": [],
   "source": [
    "x=imputer.transform(data_num)"
   ]
  },
  {
   "cell_type": "code",
   "execution_count": 27,
   "id": "ad53825e",
   "metadata": {},
   "outputs": [
    {
     "data": {
      "text/html": [
       "<div>\n",
       "<style scoped>\n",
       "    .dataframe tbody tr th:only-of-type {\n",
       "        vertical-align: middle;\n",
       "    }\n",
       "\n",
       "    .dataframe tbody tr th {\n",
       "        vertical-align: top;\n",
       "    }\n",
       "\n",
       "    .dataframe thead th {\n",
       "        text-align: right;\n",
       "    }\n",
       "</style>\n",
       "<table border=\"1\" class=\"dataframe\">\n",
       "  <thead>\n",
       "    <tr style=\"text-align: right;\">\n",
       "      <th></th>\n",
       "      <th>CHAS</th>\n",
       "    </tr>\n",
       "  </thead>\n",
       "  <tbody>\n",
       "    <tr>\n",
       "      <th>242</th>\n",
       "      <td>0.0</td>\n",
       "    </tr>\n",
       "    <tr>\n",
       "      <th>354</th>\n",
       "      <td>0.0</td>\n",
       "    </tr>\n",
       "    <tr>\n",
       "      <th>44</th>\n",
       "      <td>0.0</td>\n",
       "    </tr>\n",
       "    <tr>\n",
       "      <th>177</th>\n",
       "      <td>0.0</td>\n",
       "    </tr>\n",
       "    <tr>\n",
       "      <th>73</th>\n",
       "      <td>0.0</td>\n",
       "    </tr>\n",
       "    <tr>\n",
       "      <th>380</th>\n",
       "      <td>0.0</td>\n",
       "    </tr>\n",
       "    <tr>\n",
       "      <th>342</th>\n",
       "      <td>0.0</td>\n",
       "    </tr>\n",
       "    <tr>\n",
       "      <th>159</th>\n",
       "      <td>0.0</td>\n",
       "    </tr>\n",
       "    <tr>\n",
       "      <th>199</th>\n",
       "      <td>0.0</td>\n",
       "    </tr>\n",
       "    <tr>\n",
       "      <th>338</th>\n",
       "      <td>0.0</td>\n",
       "    </tr>\n",
       "  </tbody>\n",
       "</table>\n",
       "</div>"
      ],
      "text/plain": [
       "     CHAS\n",
       "242   0.0\n",
       "354   0.0\n",
       "44    0.0\n",
       "177   0.0\n",
       "73    0.0\n",
       "380   0.0\n",
       "342   0.0\n",
       "159   0.0\n",
       "199   0.0\n",
       "338   0.0"
      ]
     },
     "execution_count": 27,
     "metadata": {},
     "output_type": "execute_result"
    }
   ],
   "source": [
    "#if you put back into pandas Dataframe\n",
    "data_=pd.DataFrame(x, columns=data_num.columns)\n",
    "\n",
    "data_cat = data[[\"CHAS\"]]\n",
    "data_cat.head(10)"
   ]
  },
  {
   "cell_type": "code",
   "execution_count": 28,
   "id": "e9c4bee5",
   "metadata": {},
   "outputs": [
    {
     "data": {
      "text/plain": [
       "CRIM       16\n",
       "ZN         14\n",
       "INDUS      16\n",
       "CHAS       17\n",
       "NOX         0\n",
       "RM          0\n",
       "AGE        19\n",
       "DIS         0\n",
       "RAD         0\n",
       "TAX         0\n",
       "PTRATIO     0\n",
       "B           0\n",
       "LSTAT      18\n",
       "MEDV        0\n",
       "dtype: int64"
      ]
     },
     "execution_count": 28,
     "metadata": {},
     "output_type": "execute_result"
    }
   ],
   "source": [
    "data.isnull().sum()"
   ]
  },
  {
   "cell_type": "code",
   "execution_count": 29,
   "id": "dc4f5639",
   "metadata": {},
   "outputs": [
    {
     "data": {
      "text/plain": [
       "CRIM       0\n",
       "ZN         0\n",
       "INDUS      0\n",
       "CHAS       0\n",
       "NOX        0\n",
       "RM         0\n",
       "AGE        0\n",
       "DIS        0\n",
       "RAD        0\n",
       "TAX        0\n",
       "PTRATIO    0\n",
       "B          0\n",
       "LSTAT      0\n",
       "MEDV       0\n",
       "dtype: int64"
      ]
     },
     "execution_count": 29,
     "metadata": {},
     "output_type": "execute_result"
    }
   ],
   "source": [
    "data.dropna(inplace=True)\n",
    "data.isnull().sum()\n"
   ]
  },
  {
   "cell_type": "code",
   "execution_count": 30,
   "id": "9c53c814",
   "metadata": {},
   "outputs": [
    {
     "data": {
      "text/plain": [
       "4.025859354838709"
      ]
     },
     "execution_count": 30,
     "metadata": {},
     "output_type": "execute_result"
    }
   ],
   "source": [
    "data['CRIM'].mean()"
   ]
  },
  {
   "cell_type": "code",
   "execution_count": 31,
   "id": "af87cec5",
   "metadata": {},
   "outputs": [
    {
     "data": {
      "text/plain": [
       "242     0.10290\n",
       "354     0.04301\n",
       "44      0.12269\n",
       "380    88.97620\n",
       "342     0.02498\n",
       "159     1.42502\n",
       "199     0.03150\n",
       "338     0.03306\n",
       "57      0.01432\n",
       "184     0.08308\n",
       "Name: CRIM, dtype: float64"
      ]
     },
     "execution_count": 31,
     "metadata": {},
     "output_type": "execute_result"
    }
   ],
   "source": [
    "data['CRIM'].replace(np.NAN,data['CRIM'].mean()).head(10)"
   ]
  },
  {
   "cell_type": "code",
   "execution_count": 33,
   "id": "994ad42b",
   "metadata": {},
   "outputs": [
    {
     "data": {
      "text/plain": [
       "11.819354838709678"
      ]
     },
     "execution_count": 33,
     "metadata": {},
     "output_type": "execute_result"
    }
   ],
   "source": [
    "data['ZN'].mean()"
   ]
  },
  {
   "cell_type": "code",
   "execution_count": 34,
   "id": "f87de6f5",
   "metadata": {},
   "outputs": [
    {
     "data": {
      "text/plain": [
       "242     30.0\n",
       "354     80.0\n",
       "44       0.0\n",
       "380      0.0\n",
       "342      0.0\n",
       "159      0.0\n",
       "199     95.0\n",
       "338      0.0\n",
       "57     100.0\n",
       "184      0.0\n",
       "Name: ZN, dtype: float64"
      ]
     },
     "execution_count": 34,
     "metadata": {},
     "output_type": "execute_result"
    }
   ],
   "source": [
    "data['ZN'].replace(np.NAN,data['ZN'].mean()).head(10)\n"
   ]
  },
  {
   "cell_type": "code",
   "execution_count": 36,
   "id": "9619233c",
   "metadata": {},
   "outputs": [
    {
     "data": {
      "text/plain": [
       "242     4.93\n",
       "354     1.91\n",
       "44      6.91\n",
       "380    18.10\n",
       "342     1.89\n",
       "159    19.58\n",
       "199     1.47\n",
       "338     5.19\n",
       "57      1.32\n",
       "184     2.46\n",
       "Name: INDUS, dtype: float64"
      ]
     },
     "execution_count": 36,
     "metadata": {},
     "output_type": "execute_result"
    }
   ],
   "source": [
    "data['INDUS'].replace(np.NAN,data['INDUS'].mean()).head(10)\n"
   ]
  },
  {
   "cell_type": "code",
   "execution_count": 37,
   "id": "c02aa791",
   "metadata": {},
   "outputs": [
    {
     "data": {
      "text/plain": [
       "242    0.0\n",
       "354    0.0\n",
       "44     0.0\n",
       "380    0.0\n",
       "342    0.0\n",
       "159    0.0\n",
       "199    0.0\n",
       "338    0.0\n",
       "57     0.0\n",
       "184    0.0\n",
       "Name: CHAS, dtype: float64"
      ]
     },
     "execution_count": 37,
     "metadata": {},
     "output_type": "execute_result"
    }
   ],
   "source": [
    "data['CHAS'].replace(np.NAN,data['CHAS'].mean()).head(10)\n"
   ]
  },
  {
   "cell_type": "code",
   "execution_count": 38,
   "id": "2e4385b7",
   "metadata": {},
   "outputs": [
    {
     "data": {
      "text/plain": [
       "242    6.358\n",
       "354    5.663\n",
       "44     6.069\n",
       "380    6.968\n",
       "342    6.540\n",
       "159    6.510\n",
       "199    6.975\n",
       "338    6.059\n",
       "57     6.816\n",
       "184    5.604\n",
       "Name: RM, dtype: float64"
      ]
     },
     "execution_count": 38,
     "metadata": {},
     "output_type": "execute_result"
    }
   ],
   "source": [
    "data['RM'].replace(np.NAN,data['RM'].mean()).head(10)"
   ]
  },
  {
   "cell_type": "code",
   "execution_count": 39,
   "id": "78c32fa8",
   "metadata": {},
   "outputs": [
    {
     "data": {
      "text/plain": [
       "242    0.428\n",
       "354    0.413\n",
       "44     0.448\n",
       "380    0.671\n",
       "342    0.518\n",
       "159    0.871\n",
       "199    0.403\n",
       "338    0.515\n",
       "57     0.411\n",
       "184    0.488\n",
       "Name: NOX, dtype: float64"
      ]
     },
     "execution_count": 39,
     "metadata": {},
     "output_type": "execute_result"
    }
   ],
   "source": [
    "data['NOX'].replace(np.NAN,data['NOX'].mean()).head(10)\n",
    "\n"
   ]
  },
  {
   "cell_type": "code",
   "execution_count": 40,
   "id": "9bf8bd3d",
   "metadata": {},
   "outputs": [
    {
     "data": {
      "text/plain": [
       "242     52.9\n",
       "354     21.9\n",
       "44      40.0\n",
       "380     91.9\n",
       "342     59.7\n",
       "159    100.0\n",
       "199     15.3\n",
       "338     37.3\n",
       "57      40.5\n",
       "184     89.8\n",
       "Name: AGE, dtype: float64"
      ]
     },
     "execution_count": 40,
     "metadata": {},
     "output_type": "execute_result"
    }
   ],
   "source": [
    "data['AGE'].replace(np.NAN,data['AGE'].mean()).head(10)\n"
   ]
  },
  {
   "cell_type": "code",
   "execution_count": 41,
   "id": "25fb1a18",
   "metadata": {},
   "outputs": [
    {
     "data": {
      "text/plain": [
       "242     7.0355\n",
       "354    10.5857\n",
       "44      5.7209\n",
       "380     1.4165\n",
       "342     6.2669\n",
       "159     1.7659\n",
       "199     7.6534\n",
       "338     4.8122\n",
       "57      8.3248\n",
       "184     2.9879\n",
       "Name: DIS, dtype: float64"
      ]
     },
     "execution_count": 41,
     "metadata": {},
     "output_type": "execute_result"
    }
   ],
   "source": [
    "data['DIS'].replace(np.NAN,data['DIS'].mean()).head(10)\n"
   ]
  },
  {
   "cell_type": "code",
   "execution_count": 42,
   "id": "c7c1e885",
   "metadata": {},
   "outputs": [
    {
     "data": {
      "text/plain": [
       "242     6\n",
       "354     4\n",
       "44      3\n",
       "380    24\n",
       "342     1\n",
       "159     5\n",
       "199     3\n",
       "338     5\n",
       "57      5\n",
       "184     3\n",
       "Name: RAD, dtype: int64"
      ]
     },
     "execution_count": 42,
     "metadata": {},
     "output_type": "execute_result"
    }
   ],
   "source": [
    "\n",
    "data['RAD'].replace(np.NAN,data['RAD'].mean()).head(10)\n",
    "\n"
   ]
  },
  {
   "cell_type": "code",
   "execution_count": 43,
   "id": "3e205756",
   "metadata": {},
   "outputs": [
    {
     "data": {
      "text/plain": [
       "242    300\n",
       "354    334\n",
       "44     233\n",
       "380    666\n",
       "342    422\n",
       "159    403\n",
       "199    402\n",
       "338    224\n",
       "57     256\n",
       "184    193\n",
       "Name: TAX, dtype: int64"
      ]
     },
     "execution_count": 43,
     "metadata": {},
     "output_type": "execute_result"
    }
   ],
   "source": [
    "data['TAX'].replace(np.NAN,data['TAX'].mean()).head(10)\n"
   ]
  },
  {
   "cell_type": "code",
   "execution_count": 44,
   "id": "1242272a",
   "metadata": {},
   "outputs": [
    {
     "data": {
      "text/plain": [
       "242    16.6\n",
       "354    22.0\n",
       "44     17.9\n",
       "380    20.2\n",
       "342    15.9\n",
       "159    14.7\n",
       "199    17.0\n",
       "338    20.2\n",
       "57     15.1\n",
       "184    17.8\n",
       "Name: PTRATIO, dtype: float64"
      ]
     },
     "execution_count": 44,
     "metadata": {},
     "output_type": "execute_result"
    }
   ],
   "source": [
    "data['PTRATIO'].replace(np.NAN,data['PTRATIO'].mean()).head(10)"
   ]
  },
  {
   "cell_type": "code",
   "execution_count": 45,
   "id": "ead1720e",
   "metadata": {},
   "outputs": [
    {
     "data": {
      "text/plain": [
       "242    372.75\n",
       "354    382.80\n",
       "44     389.39\n",
       "380    396.90\n",
       "342    389.96\n",
       "159    364.31\n",
       "199    396.90\n",
       "338    396.14\n",
       "57     392.90\n",
       "184    391.00\n",
       "Name: B, dtype: float64"
      ]
     },
     "execution_count": 45,
     "metadata": {},
     "output_type": "execute_result"
    }
   ],
   "source": [
    "data['B'].replace(np.NAN,data['B'].mean()).head(10)"
   ]
  },
  {
   "cell_type": "code",
   "execution_count": 46,
   "id": "aeff402b",
   "metadata": {},
   "outputs": [
    {
     "data": {
      "text/plain": [
       "242    11.22\n",
       "354     8.05\n",
       "44      9.55\n",
       "380    17.21\n",
       "342     8.65\n",
       "159     7.39\n",
       "199     4.56\n",
       "338     8.51\n",
       "57      3.95\n",
       "184    13.98\n",
       "Name: LSTAT, dtype: float64"
      ]
     },
     "execution_count": 46,
     "metadata": {},
     "output_type": "execute_result"
    }
   ],
   "source": [
    "data['LSTAT'].replace(np.NAN,data['LSTAT'].mean()).head(10)\n"
   ]
  },
  {
   "cell_type": "code",
   "execution_count": 47,
   "id": "dc4c3932",
   "metadata": {},
   "outputs": [
    {
     "data": {
      "text/plain": [
       "242    22.2\n",
       "354    18.2\n",
       "44     21.2\n",
       "380    10.4\n",
       "342    16.5\n",
       "159    23.3\n",
       "199    34.9\n",
       "338    20.6\n",
       "57     31.6\n",
       "184    26.4\n",
       "Name: MEDV, dtype: float64"
      ]
     },
     "execution_count": 47,
     "metadata": {},
     "output_type": "execute_result"
    }
   ],
   "source": [
    "data['MEDV'].replace(np.NAN,data['MEDV'].mean()).head(10)"
   ]
  },
  {
   "cell_type": "code",
   "execution_count": 48,
   "id": "71d75177",
   "metadata": {},
   "outputs": [
    {
     "data": {
      "text/plain": [
       "array([[-0.38919517,  0.79323679, -0.91668211, ...,  0.17898798,\n",
       "        -0.22478012, -0.03263282],\n",
       "       [-0.39578348,  2.88138211, -1.36342865, ...,  0.28829292,\n",
       "        -0.66772055, -0.4596339 ],\n",
       "       [-0.38701813, -0.4596504 , -0.62378206, ...,  0.35996651,\n",
       "        -0.45812729, -0.13938309],\n",
       "       ...,\n",
       "       [ 1.08702052, -0.4596504 ,  1.03154703, ..., -2.44574444,\n",
       "         0.07004773,  0.06344243],\n",
       "       [-0.39636982,  2.88138211, -1.42112109, ...,  0.39052838,\n",
       "        -0.86753279,  1.29107053],\n",
       "       [-0.3356053 , -0.4596504 ,  1.59219915, ...,  0.32048622,\n",
       "        -0.23875301,  0.0527674 ]])"
      ]
     },
     "execution_count": 48,
     "metadata": {},
     "output_type": "execute_result"
    }
   ],
   "source": [
    "num_pipeline = Pipeline([\n",
    " ('imputer', SimpleImputer(strategy=\"median\")),\n",
    "\n",
    " ('std_scaler', StandardScaler()),\n",
    " ])\n",
    "data_num = num_pipeline.fit_transform(data_num)\n",
    "\n",
    "\n",
    "\n",
    "data_num"
   ]
  },
  {
   "cell_type": "code",
   "execution_count": 49,
   "id": "945a0eb9",
   "metadata": {},
   "outputs": [
    {
     "name": "stdout",
     "output_type": "stream",
     "text": [
      "Training and testing split was successful.\n"
     ]
    }
   ],
   "source": [
    "# my target is MEDV for training and testing data\n",
    "prices = data['MEDV']\n",
    "features = data.drop('MEDV', axis = 1)\n",
    "from sklearn.model_selection import train_test_split\n",
    "\n",
    "# Shuffle and split the data into training and testing subsets\n",
    "X_train, X_test, y_train, y_test = train_test_split(features,prices ,test_size=0.2, random_state = 42)\n",
    "\n",
    "# Success\n",
    "print(\"Training and testing split was successful.\")"
   ]
  },
  {
   "cell_type": "code",
   "execution_count": 53,
   "id": "05aa9007",
   "metadata": {},
   "outputs": [],
   "source": [
    "def fit_model(x,y):\n",
    "    cv_sets=ShuffleSplit(n_splits=10,test_size=0.2,random_state=0)\n",
    "    # Create a decision tree regressor object\n",
    "    regressor=DecisionTreeRegressor()\n",
    "    # Create a dictionary for the parameter 'max_depth' with a range from 1 to 10\n",
    "    params={'max_depth':[1,2,3,4,5,6,7,8,9,10]}\n",
    "    # Create the grid search cv object --> GridSearchCV()\n",
    "    grid=GridSearchCV(estimator=regressor,param_grid=params,cv=cv_sets)\n",
    "    # Fit the grid search object to the data to compute the optimal model\n",
    "    grid.fit(x,y)\n",
    "    # Return the optimal model after fitting the data\n",
    "    return grid.best_estimator_"
   ]
  },
  {
   "cell_type": "code",
   "execution_count": 54,
   "id": "ee48b38b",
   "metadata": {},
   "outputs": [
    {
     "name": "stdout",
     "output_type": "stream",
     "text": [
      "parameter 'max_depth'is 2 for optimal model.\n"
     ]
    }
   ],
   "source": [
    "reg = fit_model(X_train, y_train)\n",
    "# produce the value of 'max_depth'\n",
    "print(\"parameter 'max_depth'is {} for optimal model.\".format(reg.get_params()['max_depth']))"
   ]
  }
 ],
 "metadata": {
  "kernelspec": {
   "display_name": "Python 3",
   "language": "python",
   "name": "python3"
  },
  "language_info": {
   "codemirror_mode": {
    "name": "ipython",
    "version": 3
   },
   "file_extension": ".py",
   "mimetype": "text/x-python",
   "name": "python",
   "nbconvert_exporter": "python",
   "pygments_lexer": "ipython3",
   "version": "3.8.8"
  }
 },
 "nbformat": 4,
 "nbformat_minor": 5
}
